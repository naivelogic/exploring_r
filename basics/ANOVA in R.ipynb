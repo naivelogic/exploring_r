{
 "cells": [
  {
   "cell_type": "markdown",
   "metadata": {},
   "source": [
    "[Source walkthroug](https://stat.ethz.ch/~meierluk/teaching/anova/contrasts-and-multiple-testing.html)"
   ]
  },
  {
   "cell_type": "code",
   "execution_count": 1,
   "metadata": {},
   "outputs": [
    {
     "data": {
      "text/html": [
       "<ol class=list-inline>\n",
       "\t<li>'A'</li>\n",
       "\t<li>'A'</li>\n",
       "\t<li>'A'</li>\n",
       "\t<li>'A'</li>\n",
       "\t<li>'A'</li>\n",
       "\t<li>'B'</li>\n",
       "\t<li>'B'</li>\n",
       "\t<li>'B'</li>\n",
       "\t<li>'B'</li>\n",
       "\t<li>'B'</li>\n",
       "\t<li>'C'</li>\n",
       "\t<li>'C'</li>\n",
       "\t<li>'C'</li>\n",
       "\t<li>'C'</li>\n",
       "\t<li>'C'</li>\n",
       "\t<li>'D'</li>\n",
       "\t<li>'D'</li>\n",
       "\t<li>'D'</li>\n",
       "\t<li>'D'</li>\n",
       "\t<li>'D'</li>\n",
       "</ol>\n"
      ],
      "text/latex": [
       "\\begin{enumerate*}\n",
       "\\item 'A'\n",
       "\\item 'A'\n",
       "\\item 'A'\n",
       "\\item 'A'\n",
       "\\item 'A'\n",
       "\\item 'B'\n",
       "\\item 'B'\n",
       "\\item 'B'\n",
       "\\item 'B'\n",
       "\\item 'B'\n",
       "\\item 'C'\n",
       "\\item 'C'\n",
       "\\item 'C'\n",
       "\\item 'C'\n",
       "\\item 'C'\n",
       "\\item 'D'\n",
       "\\item 'D'\n",
       "\\item 'D'\n",
       "\\item 'D'\n",
       "\\item 'D'\n",
       "\\end{enumerate*}\n"
      ],
      "text/markdown": [
       "1. 'A'\n",
       "2. 'A'\n",
       "3. 'A'\n",
       "4. 'A'\n",
       "5. 'A'\n",
       "6. 'B'\n",
       "7. 'B'\n",
       "8. 'B'\n",
       "9. 'B'\n",
       "10. 'B'\n",
       "11. 'C'\n",
       "12. 'C'\n",
       "13. 'C'\n",
       "14. 'C'\n",
       "15. 'C'\n",
       "16. 'D'\n",
       "17. 'D'\n",
       "18. 'D'\n",
       "19. 'D'\n",
       "20. 'D'\n",
       "\n",
       "\n"
      ],
      "text/plain": [
       " [1] \"A\" \"A\" \"A\" \"A\" \"A\" \"B\" \"B\" \"B\" \"B\" \"B\" \"C\" \"C\" \"C\" \"C\" \"C\" \"D\" \"D\" \"D\" \"D\"\n",
       "[20] \"D\""
      ]
     },
     "metadata": {},
     "output_type": "display_data"
    }
   ],
   "source": [
    "treat.ord= rep(c(\"A\", \"B\", \"C\", \"D\"), each = 5)\n",
    "treat.ord"
   ]
  },
  {
   "cell_type": "code",
   "execution_count": 7,
   "metadata": {},
   "outputs": [
    {
     "data": {
      "text/html": [
       "<ol class=list-inline>\n",
       "\t<li>'A'</li>\n",
       "\t<li>'A'</li>\n",
       "\t<li>'A'</li>\n",
       "\t<li>'A'</li>\n",
       "\t<li>'A'</li>\n",
       "\t<li>'B'</li>\n",
       "\t<li>'B'</li>\n",
       "\t<li>'B'</li>\n",
       "\t<li>'B'</li>\n",
       "\t<li>'B'</li>\n",
       "\t<li>'C'</li>\n",
       "\t<li>'C'</li>\n",
       "\t<li>'C'</li>\n",
       "\t<li>'C'</li>\n",
       "\t<li>'C'</li>\n",
       "\t<li>'D'</li>\n",
       "\t<li>'D'</li>\n",
       "\t<li>'D'</li>\n",
       "\t<li>'D'</li>\n",
       "\t<li>'D'</li>\n",
       "</ol>\n"
      ],
      "text/latex": [
       "\\begin{enumerate*}\n",
       "\\item 'A'\n",
       "\\item 'A'\n",
       "\\item 'A'\n",
       "\\item 'A'\n",
       "\\item 'A'\n",
       "\\item 'B'\n",
       "\\item 'B'\n",
       "\\item 'B'\n",
       "\\item 'B'\n",
       "\\item 'B'\n",
       "\\item 'C'\n",
       "\\item 'C'\n",
       "\\item 'C'\n",
       "\\item 'C'\n",
       "\\item 'C'\n",
       "\\item 'D'\n",
       "\\item 'D'\n",
       "\\item 'D'\n",
       "\\item 'D'\n",
       "\\item 'D'\n",
       "\\end{enumerate*}\n"
      ],
      "text/markdown": [
       "1. 'A'\n",
       "2. 'A'\n",
       "3. 'A'\n",
       "4. 'A'\n",
       "5. 'A'\n",
       "6. 'B'\n",
       "7. 'B'\n",
       "8. 'B'\n",
       "9. 'B'\n",
       "10. 'B'\n",
       "11. 'C'\n",
       "12. 'C'\n",
       "13. 'C'\n",
       "14. 'C'\n",
       "15. 'C'\n",
       "16. 'D'\n",
       "17. 'D'\n",
       "18. 'D'\n",
       "19. 'D'\n",
       "20. 'D'\n",
       "\n",
       "\n"
      ],
      "text/plain": [
       " [1] \"A\" \"A\" \"A\" \"A\" \"A\" \"B\" \"B\" \"B\" \"B\" \"B\" \"C\" \"C\" \"C\" \"C\" \"C\" \"D\" \"D\" \"D\" \"D\"\n",
       "[20] \"D\""
      ]
     },
     "metadata": {},
     "output_type": "display_data"
    }
   ],
   "source": [
    "tread.ord"
   ]
  },
  {
   "cell_type": "code",
   "execution_count": 2,
   "metadata": {},
   "outputs": [
    {
     "data": {
      "text/html": [
       "<ol class=list-inline>\n",
       "\t<li>'A'</li>\n",
       "\t<li>'B'</li>\n",
       "\t<li>'D'</li>\n",
       "\t<li>'A'</li>\n",
       "\t<li>'B'</li>\n",
       "\t<li>'C'</li>\n",
       "\t<li>'B'</li>\n",
       "\t<li>'C'</li>\n",
       "\t<li>'C'</li>\n",
       "\t<li>'B'</li>\n",
       "\t<li>'A'</li>\n",
       "\t<li>'D'</li>\n",
       "\t<li>'C'</li>\n",
       "\t<li>'A'</li>\n",
       "\t<li>'A'</li>\n",
       "\t<li>'C'</li>\n",
       "\t<li>'D'</li>\n",
       "\t<li>'D'</li>\n",
       "\t<li>'D'</li>\n",
       "\t<li>'B'</li>\n",
       "</ol>\n"
      ],
      "text/latex": [
       "\\begin{enumerate*}\n",
       "\\item 'A'\n",
       "\\item 'B'\n",
       "\\item 'D'\n",
       "\\item 'A'\n",
       "\\item 'B'\n",
       "\\item 'C'\n",
       "\\item 'B'\n",
       "\\item 'C'\n",
       "\\item 'C'\n",
       "\\item 'B'\n",
       "\\item 'A'\n",
       "\\item 'D'\n",
       "\\item 'C'\n",
       "\\item 'A'\n",
       "\\item 'A'\n",
       "\\item 'C'\n",
       "\\item 'D'\n",
       "\\item 'D'\n",
       "\\item 'D'\n",
       "\\item 'B'\n",
       "\\end{enumerate*}\n"
      ],
      "text/markdown": [
       "1. 'A'\n",
       "2. 'B'\n",
       "3. 'D'\n",
       "4. 'A'\n",
       "5. 'B'\n",
       "6. 'C'\n",
       "7. 'B'\n",
       "8. 'C'\n",
       "9. 'C'\n",
       "10. 'B'\n",
       "11. 'A'\n",
       "12. 'D'\n",
       "13. 'C'\n",
       "14. 'A'\n",
       "15. 'A'\n",
       "16. 'C'\n",
       "17. 'D'\n",
       "18. 'D'\n",
       "19. 'D'\n",
       "20. 'B'\n",
       "\n",
       "\n"
      ],
      "text/plain": [
       " [1] \"A\" \"B\" \"D\" \"A\" \"B\" \"C\" \"B\" \"C\" \"C\" \"B\" \"A\" \"D\" \"C\" \"A\" \"A\" \"C\" \"D\" \"D\" \"D\"\n",
       "[20] \"B\""
      ]
     },
     "metadata": {},
     "output_type": "display_data"
    }
   ],
   "source": [
    "## random sample\n",
    "sample(treat.ord)"
   ]
  },
  {
   "cell_type": "markdown",
   "metadata": {},
   "source": [
    "## 3.1.2 Parameter Estimation \n",
    "\n",
    "\n",
    "\\begin{align*}\n",
    "  y_{i\\cdot}      & = \\sum_{j=1}^{n_i} y_{ij} & \\textrm{sum of group $i$}\\\\\n",
    "  y_{\\cdot \\cdot} & = \\sum_{i=1}^g \\sum_{j=1}^{n_i} y_{ij} & \n",
    "    \\textrm{sum of all observations}\\\\\n",
    "  \\overline{y}_{i\\cdot} & = \\frac{1}{n_i} \\sum_{j=1}^{n_i} y_{ij} & \n",
    "    \\textrm{mean of group $i$}\\\\\n",
    "  \\overline{y}_{\\cdot\\cdot} & = \\frac{1}{N} \\sum_{i=1}^g \\sum_{j=1}^{n_i} y_{ij} & \n",
    "    \\textrm{overall (or total) mean}\n",
    "\\end{align*}"
   ]
  },
  {
   "cell_type": "code",
   "execution_count": 3,
   "metadata": {},
   "outputs": [
    {
     "name": "stdout",
     "output_type": "stream",
     "text": [
      "'data.frame':\t30 obs. of  2 variables:\n",
      " $ weight: num  4.17 5.58 5.18 6.11 4.5 4.61 5.17 4.53 5.33 5.14 ...\n",
      " $ group : Factor w/ 3 levels \"ctrl\",\"trt1\",..: 1 1 1 1 1 1 1 1 1 1 ...\n"
     ]
    }
   ],
   "source": [
    "data(PlantGrowth)\n",
    "str(PlantGrowth)"
   ]
  },
  {
   "cell_type": "markdown",
   "metadata": {},
   "source": [
    "We can see that `group` is a __categorical predictor__ having three levels, which the first level is `cntl` or control. lets evaluate more details about the factors in this dataset:"
   ]
  },
  {
   "cell_type": "code",
   "execution_count": 4,
   "metadata": {},
   "outputs": [
    {
     "data": {
      "text/html": [
       "<ol class=list-inline>\n",
       "\t<li>'ctrl'</li>\n",
       "\t<li>'trt1'</li>\n",
       "\t<li>'trt2'</li>\n",
       "</ol>\n"
      ],
      "text/latex": [
       "\\begin{enumerate*}\n",
       "\\item 'ctrl'\n",
       "\\item 'trt1'\n",
       "\\item 'trt2'\n",
       "\\end{enumerate*}\n"
      ],
      "text/markdown": [
       "1. 'ctrl'\n",
       "2. 'trt1'\n",
       "3. 'trt2'\n",
       "\n",
       "\n"
      ],
      "text/plain": [
       "[1] \"ctrl\" \"trt1\" \"trt2\""
      ]
     },
     "metadata": {},
     "output_type": "display_data"
    }
   ],
   "source": [
    "levels(PlantGrowth$group)"
   ]
  },
  {
   "cell_type": "markdown",
   "metadata": {},
   "source": [
    "Plot Data"
   ]
  },
  {
   "cell_type": "code",
   "execution_count": 5,
   "metadata": {},
   "outputs": [
    {
     "data": {
      "image/png": "[encoded data removed]",
      "text/plain": [
       "plot without title"
      ]
     },
     "metadata": {},
     "output_type": "display_data"
    }
   ],
   "source": [
    "par(mfrow = c(1,2))  # split the plot\n",
    "stripchart(weight ~ group, vertical = TRUE, pch = 1, data=PlantGrowth)\n",
    "boxplot(weight ~ group, data = PlantGrowth)"
   ]
  },
  {
   "cell_type": "markdown",
   "metadata": {},
   "source": [
    "Here we are calling the __categorical predictor__ or factors within the `group` according to our response variable (weight) using the below equation:\n",
    "\n",
    "\\begin{equation}\n",
    "  \\mu_i = \\mu + \\alpha_i\n",
    "  \\tag{3.3}\n",
    "\\end{equation}\n",
    "\n",
    "Where - We also call $α_i$ the $i$th treatment effect. and we can think of $μ$ as a \"global mean\" and $α_i$ as a _\"deviaiton from the global mean due to the $i$th treatment\"_\n",
    "\n",
    "Next we fit the ANOVA model using the `aov` function. We state the model using the formula notation where the response is listed on the left-hand side and the (only) predictor is on the right hand side of the tilde sign `~`. Then use call the `coef` function to __estimate the parameters__"
   ]
  },
  {
   "cell_type": "code",
   "execution_count": 6,
   "metadata": {},
   "outputs": [
    {
     "data": {
      "text/html": [
       "<dl class=dl-horizontal>\n",
       "\t<dt>(Intercept)</dt>\n",
       "\t\t<dd>5.032</dd>\n",
       "\t<dt>grouptrt1</dt>\n",
       "\t\t<dd>-0.370999999999999</dd>\n",
       "\t<dt>grouptrt2</dt>\n",
       "\t\t<dd>0.494000000000001</dd>\n",
       "</dl>\n"
      ],
      "text/latex": [
       "\\begin{description*}\n",
       "\\item[(Intercept)] 5.032\n",
       "\\item[grouptrt1] -0.370999999999999\n",
       "\\item[grouptrt2] 0.494000000000001\n",
       "\\end{description*}\n"
      ],
      "text/markdown": [
       "(Intercept)\n",
       ":   5.032grouptrt1\n",
       ":   -0.370999999999999grouptrt2\n",
       ":   0.494000000000001\n",
       "\n"
      ],
      "text/plain": [
       "(Intercept)   grouptrt1   grouptrt2 \n",
       "      5.032      -0.371       0.494 "
      ]
     },
     "metadata": {},
     "output_type": "display_data"
    }
   ],
   "source": [
    "fit = aov(weight ~ group, data = PlantGrowth)\n",
    "\n",
    "coef(fit) # print the estimated coefficients"
   ]
  },
  {
   "cell_type": "code",
   "execution_count": 7,
   "metadata": {},
   "outputs": [
    {
     "data": {
      "text/plain": [
       "Full coefficients are \n",
       "                                    \n",
       "(Intercept):     5.032              \n",
       "group:            ctrl   trt1   trt2\n",
       "                 0.000 -0.371  0.494"
      ]
     },
     "metadata": {},
     "output_type": "display_data"
    }
   ],
   "source": [
    "dummy.coef(fit)"
   ]
  },
  {
   "cell_type": "markdown",
   "metadata": {},
   "source": [
    "The `(intercept)` corresponds to μ = 5.032 which is the estimated value of the expected value of the _reference group_ `ctl` bcause by default we use `control.treatement` and the frist level is the refeference group.\n",
    "\n",
    "From there we thave the `grouptr1` which is $\\widehat{\\alpha}_2 = -0.371$. __This means that the difference group `trt1` to group `ctrl` is estimated to be -0.371.__\n",
    "\n",
    "The last column is `grouptr2` which is $\\widehat{\\alpha}_3 = 0.494$. This is the difference of group `trt2` to group `ctrl`. \n",
    "\n",
    "Hense for all levels except the reference level we see difference to the reference group while estimate of the reference level can be found in the column `(intercept)`"
   ]
  },
  {
   "cell_type": "markdown",
   "metadata": {},
   "source": [
    "We can also get $\\widehat{\\mu}_i$ which is the __predicted value per treatement group__ we can also obtain this value by using the `predict` function on the `fit` object. The `fit` objuct contains all information about the estimated model. "
   ]
  },
  {
   "cell_type": "code",
   "execution_count": 8,
   "metadata": {},
   "outputs": [
    {
     "data": {
      "text/html": [
       "<dl class=dl-horizontal>\n",
       "\t<dt>1</dt>\n",
       "\t\t<dd>5.032</dd>\n",
       "\t<dt>2</dt>\n",
       "\t\t<dd>4.661</dd>\n",
       "\t<dt>3</dt>\n",
       "\t\t<dd>5.526</dd>\n",
       "</dl>\n"
      ],
      "text/latex": [
       "\\begin{description*}\n",
       "\\item[1] 5.032\n",
       "\\item[2] 4.661\n",
       "\\item[3] 5.526\n",
       "\\end{description*}\n"
      ],
      "text/markdown": [
       "1\n",
       ":   5.0322\n",
       ":   4.6613\n",
       ":   5.526\n",
       "\n"
      ],
      "text/plain": [
       "    1     2     3 \n",
       "5.032 4.661 5.526 "
      ]
     },
     "metadata": {},
     "output_type": "display_data"
    }
   ],
   "source": [
    "predict(fit, newdata = data.frame(group = c(\"ctrl\", \"trt1\", \"trt2\")))"
   ]
  },
  {
   "cell_type": "code",
   "execution_count": 9,
   "metadata": {},
   "outputs": [
    {
     "data": {
      "text/html": [
       "4.661"
      ],
      "text/latex": [
       "4.661"
      ],
      "text/markdown": [
       "4.661"
      ],
      "text/plain": [
       "[1] 4.661"
      ]
     },
     "metadata": {},
     "output_type": "display_data"
    }
   ],
   "source": [
    "5.032-0.371"
   ]
  },
  {
   "cell_type": "markdown",
   "metadata": {},
   "source": [
    "Say we want to change the side-constrate to sum-to-zero, we use the `contr.sum` option to change the encoding on the global level"
   ]
  },
  {
   "cell_type": "code",
   "execution_count": 10,
   "metadata": {},
   "outputs": [
    {
     "data": {
      "text/html": [
       "<dl class=dl-horizontal>\n",
       "\t<dt>(Intercept)</dt>\n",
       "\t\t<dd>5.073</dd>\n",
       "\t<dt>group1</dt>\n",
       "\t\t<dd>-0.0410000000000002</dd>\n",
       "\t<dt>group2</dt>\n",
       "\t\t<dd>-0.412</dd>\n",
       "</dl>\n"
      ],
      "text/latex": [
       "\\begin{description*}\n",
       "\\item[(Intercept)] 5.073\n",
       "\\item[group1] -0.0410000000000002\n",
       "\\item[group2] -0.412\n",
       "\\end{description*}\n"
      ],
      "text/markdown": [
       "(Intercept)\n",
       ":   5.073group1\n",
       ":   -0.0410000000000002group2\n",
       ":   -0.412\n",
       "\n"
      ],
      "text/plain": [
       "(Intercept)      group1      group2 \n",
       "      5.073      -0.041      -0.412 "
      ]
     },
     "metadata": {},
     "output_type": "display_data"
    }
   ],
   "source": [
    "options(contrasts = c(\"contr.sum\", \"contr.poly\"))\n",
    "fit2 = aov(weight ~ group, data = PlantGrowth)\n",
    "coef(fit2)"
   ]
  },
  {
   "cell_type": "code",
   "execution_count": 11,
   "metadata": {},
   "outputs": [
    {
     "data": {
      "text/plain": [
       "Full coefficients are \n",
       "                                    \n",
       "(Intercept):     5.073              \n",
       "group:            ctrl   trt1   trt2\n",
       "                -0.041 -0.412  0.453"
      ]
     },
     "metadata": {},
     "output_type": "display_data"
    }
   ],
   "source": [
    "dummy.coef(fit2)"
   ]
  },
  {
   "cell_type": "markdown",
   "metadata": {},
   "source": [
    "We get different values because the meaning of the parameters has changed. "
   ]
  },
  {
   "cell_type": "code",
   "execution_count": 12,
   "metadata": {},
   "outputs": [
    {
     "data": {
      "text/html": [
       "<dl class=dl-horizontal>\n",
       "\t<dt>1</dt>\n",
       "\t\t<dd>5.032</dd>\n",
       "\t<dt>2</dt>\n",
       "\t\t<dd>4.661</dd>\n",
       "\t<dt>3</dt>\n",
       "\t\t<dd>5.526</dd>\n",
       "</dl>\n"
      ],
      "text/latex": [
       "\\begin{description*}\n",
       "\\item[1] 5.032\n",
       "\\item[2] 4.661\n",
       "\\item[3] 5.526\n",
       "\\end{description*}\n"
      ],
      "text/markdown": [
       "1\n",
       ":   5.0322\n",
       ":   4.6613\n",
       ":   5.526\n",
       "\n"
      ],
      "text/plain": [
       "    1     2     3 \n",
       "5.032 4.661 5.526 "
      ]
     },
     "metadata": {},
     "output_type": "display_data"
    }
   ],
   "source": [
    "predict(fit2, newdata = data.frame(group = c(\"ctrl\", \"trt1\", \"trt2\")))"
   ]
  },
  {
   "cell_type": "markdown",
   "metadata": {},
   "source": [
    "we can compare the `predict` output from `fit` and `fit2` and see that the predictions have not change. Therefore, predicted values do not depend on _side contraint_, but _side contraint_ has a large impact on the meaning of the parameters of the model."
   ]
  },
  {
   "cell_type": "markdown",
   "metadata": {},
   "source": [
    "Next we run the `summary` function to get the ANOVA table and the p-value"
   ]
  },
  {
   "cell_type": "code",
   "execution_count": 13,
   "metadata": {},
   "outputs": [
    {
     "data": {
      "text/plain": [
       "            Df Sum Sq Mean Sq F value Pr(>F)  \n",
       "group        2  3.766  1.8832   4.846 0.0159 *\n",
       "Residuals   27 10.492  0.3886                 \n",
       "---\n",
       "Signif. codes:  0 ‘***’ 0.001 ‘**’ 0.01 ‘*’ 0.05 ‘.’ 0.1 ‘ ’ 1"
      ]
     },
     "metadata": {},
     "output_type": "display_data"
    }
   ],
   "source": [
    "summary(fit)"
   ]
  },
  {
   "cell_type": "markdown",
   "metadata": {},
   "source": [
    "we get the p-value = 0.0159, hence we __reject the null hypothesis__ on a 5% significance level. "
   ]
  },
  {
   "cell_type": "markdown",
   "metadata": {},
   "source": [
    "We can also perform the f-test  by using the `drop1` function which performs a test whether a single term/factor can be dropped form the model"
   ]
  },
  {
   "cell_type": "code",
   "execution_count": 14,
   "metadata": {},
   "outputs": [
    {
     "data": {
      "text/html": [
       "<table>\n",
       "<thead><tr><th></th><th scope=col>Df</th><th scope=col>Sum of Sq</th><th scope=col>RSS</th><th scope=col>AIC</th><th scope=col>F value</th><th scope=col>Pr(&gt;F)</th></tr></thead>\n",
       "<tbody>\n",
       "\t<tr><th scope=row>&lt;none&gt;</th><td>NA        </td><td>     NA   </td><td>10.49209  </td><td>-25.51727 </td><td>      NA  </td><td>        NA</td></tr>\n",
       "\t<tr><th scope=row>group</th><td> 2        </td><td>3.76634   </td><td>14.25843  </td><td>-20.31547 </td><td>4.846088  </td><td>0.01590996</td></tr>\n",
       "</tbody>\n",
       "</table>\n"
      ],
      "text/latex": [
       "\\begin{tabular}{r|llllll}\n",
       "  & Df & Sum of Sq & RSS & AIC & F value & Pr(>F)\\\\\n",
       "\\hline\n",
       "\t<none> & NA         &      NA    & 10.49209   & -25.51727  &       NA   &         NA\\\\\n",
       "\tgroup &  2         & 3.76634    & 14.25843   & -20.31547  & 4.846088   & 0.01590996\\\\\n",
       "\\end{tabular}\n"
      ],
      "text/markdown": [
       "\n",
       "| <!--/--> | Df | Sum of Sq | RSS | AIC | F value | Pr(>F) | \n",
       "|---|---|\n",
       "| <none> | NA         |      NA    | 10.49209   | -25.51727  |       NA   |         NA | \n",
       "| group |  2         | 3.76634    | 14.25843   | -20.31547  | 4.846088   | 0.01590996 | \n",
       "\n",
       "\n"
      ],
      "text/plain": [
       "       Df Sum of Sq RSS      AIC       F value  Pr(>F)    \n",
       "<none> NA      NA   10.49209 -25.51727       NA         NA\n",
       "group   2 3.76634   14.25843 -20.31547 4.846088 0.01590996"
      ]
     },
     "metadata": {},
     "output_type": "display_data"
    }
   ],
   "source": [
    "drop1(fit, test = \"F\")"
   ]
  },
  {
   "cell_type": "markdown",
   "metadata": {},
   "source": [
    "we get the same p-value."
   ]
  },
  {
   "cell_type": "markdown",
   "metadata": {},
   "source": [
    "compare two different models"
   ]
  },
  {
   "cell_type": "code",
   "execution_count": 15,
   "metadata": {},
   "outputs": [
    {
     "data": {
      "text/html": [
       "<table>\n",
       "<thead><tr><th scope=col>Res.Df</th><th scope=col>RSS</th><th scope=col>Df</th><th scope=col>Sum of Sq</th><th scope=col>F</th><th scope=col>Pr(&gt;F)</th></tr></thead>\n",
       "<tbody>\n",
       "\t<tr><td>29        </td><td>14.25843  </td><td>NA        </td><td>     NA   </td><td>      NA  </td><td>        NA</td></tr>\n",
       "\t<tr><td>27        </td><td>10.49209  </td><td> 2        </td><td>3.76634   </td><td>4.846088  </td><td>0.01590996</td></tr>\n",
       "</tbody>\n",
       "</table>\n"
      ],
      "text/latex": [
       "\\begin{tabular}{r|llllll}\n",
       " Res.Df & RSS & Df & Sum of Sq & F & Pr(>F)\\\\\n",
       "\\hline\n",
       "\t 29         & 14.25843   & NA         &      NA    &       NA   &         NA\\\\\n",
       "\t 27         & 10.49209   &  2         & 3.76634    & 4.846088   & 0.01590996\\\\\n",
       "\\end{tabular}\n"
      ],
      "text/markdown": [
       "\n",
       "Res.Df | RSS | Df | Sum of Sq | F | Pr(>F) | \n",
       "|---|---|\n",
       "| 29         | 14.25843   | NA         |      NA    |       NA   |         NA | \n",
       "| 27         | 10.49209   |  2         | 3.76634    | 4.846088   | 0.01590996 | \n",
       "\n",
       "\n"
      ],
      "text/plain": [
       "  Res.Df RSS      Df Sum of Sq F        Pr(>F)    \n",
       "1 29     14.25843 NA      NA         NA         NA\n",
       "2 27     10.49209  2 3.76634   4.846088 0.01590996"
      ]
     },
     "metadata": {},
     "output_type": "display_data"
    }
   ],
   "source": [
    "# fit single mean model\n",
    "fit.single = aov(weight ~ 1, data = PlantGrowth) # 1 means global mean (intercept)\n",
    "\n",
    "anova(fit.single, fit) # compare with cell means model"
   ]
  },
  {
   "cell_type": "code",
   "execution_count": 41,
   "metadata": {},
   "outputs": [
    {
     "data": {
      "text/html": [
       "<ol class=list-inline>\n",
       "\t<li>4.17</li>\n",
       "\t<li>5.58</li>\n",
       "\t<li>5.18</li>\n",
       "\t<li>6.11</li>\n",
       "\t<li>4.5</li>\n",
       "\t<li>4.61</li>\n",
       "\t<li>5.17</li>\n",
       "\t<li>4.53</li>\n",
       "\t<li>5.33</li>\n",
       "\t<li>5.14</li>\n",
       "\t<li>4.81</li>\n",
       "\t<li>4.17</li>\n",
       "\t<li>4.41</li>\n",
       "\t<li>3.59</li>\n",
       "\t<li>5.87</li>\n",
       "\t<li>3.83</li>\n",
       "\t<li>6.03</li>\n",
       "\t<li>4.89</li>\n",
       "\t<li>4.32</li>\n",
       "\t<li>4.69</li>\n",
       "\t<li>6.31</li>\n",
       "\t<li>5.12</li>\n",
       "\t<li>5.54</li>\n",
       "\t<li>5.5</li>\n",
       "\t<li>5.37</li>\n",
       "\t<li>5.29</li>\n",
       "\t<li>4.92</li>\n",
       "\t<li>6.15</li>\n",
       "\t<li>5.8</li>\n",
       "\t<li>5.26</li>\n",
       "</ol>\n"
      ],
      "text/latex": [
       "\\begin{enumerate*}\n",
       "\\item 4.17\n",
       "\\item 5.58\n",
       "\\item 5.18\n",
       "\\item 6.11\n",
       "\\item 4.5\n",
       "\\item 4.61\n",
       "\\item 5.17\n",
       "\\item 4.53\n",
       "\\item 5.33\n",
       "\\item 5.14\n",
       "\\item 4.81\n",
       "\\item 4.17\n",
       "\\item 4.41\n",
       "\\item 3.59\n",
       "\\item 5.87\n",
       "\\item 3.83\n",
       "\\item 6.03\n",
       "\\item 4.89\n",
       "\\item 4.32\n",
       "\\item 4.69\n",
       "\\item 6.31\n",
       "\\item 5.12\n",
       "\\item 5.54\n",
       "\\item 5.5\n",
       "\\item 5.37\n",
       "\\item 5.29\n",
       "\\item 4.92\n",
       "\\item 6.15\n",
       "\\item 5.8\n",
       "\\item 5.26\n",
       "\\end{enumerate*}\n"
      ],
      "text/markdown": [
       "1. 4.17\n",
       "2. 5.58\n",
       "3. 5.18\n",
       "4. 6.11\n",
       "5. 4.5\n",
       "6. 4.61\n",
       "7. 5.17\n",
       "8. 4.53\n",
       "9. 5.33\n",
       "10. 5.14\n",
       "11. 4.81\n",
       "12. 4.17\n",
       "13. 4.41\n",
       "14. 3.59\n",
       "15. 5.87\n",
       "16. 3.83\n",
       "17. 6.03\n",
       "18. 4.89\n",
       "19. 4.32\n",
       "20. 4.69\n",
       "21. 6.31\n",
       "22. 5.12\n",
       "23. 5.54\n",
       "24. 5.5\n",
       "25. 5.37\n",
       "26. 5.29\n",
       "27. 4.92\n",
       "28. 6.15\n",
       "29. 5.8\n",
       "30. 5.26\n",
       "\n",
       "\n"
      ],
      "text/plain": [
       " [1] 4.17 5.58 5.18 6.11 4.50 4.61 5.17 4.53 5.33 5.14 4.81 4.17 4.41 3.59 5.87\n",
       "[16] 3.83 6.03 4.89 4.32 4.69 6.31 5.12 5.54 5.50 5.37 5.29 4.92 6.15 5.80 5.26"
      ]
     },
     "metadata": {},
     "output_type": "display_data"
    }
   ],
   "source": [
    "PlantGrowth$weight"
   ]
  },
  {
   "cell_type": "markdown",
   "metadata": {},
   "source": [
    "same p-value"
   ]
  },
  {
   "cell_type": "markdown",
   "metadata": {},
   "source": [
    "To perform statistical inference for individual factor groups we can use `summary.lm` for test and `confint` for confidence intervals"
   ]
  },
  {
   "cell_type": "code",
   "execution_count": 16,
   "metadata": {},
   "outputs": [
    {
     "data": {
      "text/plain": [
       "\n",
       "Call:\n",
       "aov(formula = weight ~ group, data = PlantGrowth)\n",
       "\n",
       "Residuals:\n",
       "    Min      1Q  Median      3Q     Max \n",
       "-1.0710 -0.4180 -0.0060  0.2627  1.3690 \n",
       "\n",
       "Coefficients:\n",
       "            Estimate Std. Error t value Pr(>|t|)    \n",
       "(Intercept)   5.0320     0.1971  25.527   <2e-16 ***\n",
       "grouptrt1    -0.3710     0.2788  -1.331   0.1944    \n",
       "grouptrt2     0.4940     0.2788   1.772   0.0877 .  \n",
       "---\n",
       "Signif. codes:  0 ‘***’ 0.001 ‘**’ 0.01 ‘*’ 0.05 ‘.’ 0.1 ‘ ’ 1\n",
       "\n",
       "Residual standard error: 0.6234 on 27 degrees of freedom\n",
       "Multiple R-squared:  0.2641,\tAdjusted R-squared:  0.2096 \n",
       "F-statistic: 4.846 on 2 and 27 DF,  p-value: 0.01591\n"
      ]
     },
     "metadata": {},
     "output_type": "display_data"
    }
   ],
   "source": [
    "summary.lm(fit)"
   ]
  },
  {
   "cell_type": "code",
   "execution_count": 17,
   "metadata": {},
   "outputs": [
    {
     "data": {
      "text/html": [
       "<table>\n",
       "<thead><tr><th></th><th scope=col>2.5 %</th><th scope=col>97.5 %</th></tr></thead>\n",
       "<tbody>\n",
       "\t<tr><th scope=row>(Intercept)</th><td> 4.62752600</td><td>5.4364740  </td></tr>\n",
       "\t<tr><th scope=row>grouptrt1</th><td>-0.94301261</td><td>0.2010126  </td></tr>\n",
       "\t<tr><th scope=row>grouptrt2</th><td>-0.07801261</td><td>1.0660126  </td></tr>\n",
       "</tbody>\n",
       "</table>\n"
      ],
      "text/latex": [
       "\\begin{tabular}{r|ll}\n",
       "  & 2.5 \\% & 97.5 \\%\\\\\n",
       "\\hline\n",
       "\t(Intercept) &  4.62752600 & 5.4364740  \\\\\n",
       "\tgrouptrt1 & -0.94301261 & 0.2010126  \\\\\n",
       "\tgrouptrt2 & -0.07801261 & 1.0660126  \\\\\n",
       "\\end{tabular}\n"
      ],
      "text/markdown": [
       "\n",
       "| <!--/--> | 2.5 % | 97.5 % | \n",
       "|---|---|---|\n",
       "| (Intercept) |  4.62752600 | 5.4364740   | \n",
       "| grouptrt1 | -0.94301261 | 0.2010126   | \n",
       "| grouptrt2 | -0.07801261 | 1.0660126   | \n",
       "\n",
       "\n"
      ],
      "text/plain": [
       "            2.5 %       97.5 %   \n",
       "(Intercept)  4.62752600 5.4364740\n",
       "grouptrt1   -0.94301261 0.2010126\n",
       "grouptrt2   -0.07801261 1.0660126"
      ]
     },
     "metadata": {},
     "output_type": "display_data"
    }
   ],
   "source": [
    "confint(fit)"
   ]
  },
  {
   "cell_type": "markdown",
   "metadata": {},
   "source": [
    "interpretaiton of output is highly based on side-constraint being used however can be read as such: confidence interval -0.943, 0.201 for the difference between `trt1` and `ctrl`"
   ]
  },
  {
   "cell_type": "markdown",
   "metadata": {},
   "source": [
    "## Checking Assumptions (Residual Analysis)\n",
    "\n",
    "Our test are only valid if the model assumptions hold true. We can validate the assumptions by asking the following questions:\n",
    "\n",
    "* are the errors independent? (most important)\n",
    "* are the errors normally distributed?\n",
    "* is the error variance constant?\n",
    "* do the errors have mean zero? (for anova not as critical as anova is resistant as were are typically fitting large models)\n",
    "\n",
    "The easiest method to assess the validity of these assumptions are to check visually:"
   ]
  },
  {
   "cell_type": "markdown",
   "metadata": {},
   "source": []
  },
  {
   "cell_type": "code",
   "execution_count": 18,
   "metadata": {
    "scrolled": false
   },
   "outputs": [
    {
     "data": {
      "image/png": "[encoded data removed]",
      "text/plain": [
       "Plot with title “”"
      ]
     },
     "metadata": {},
     "output_type": "display_data"
    }
   ],
   "source": [
    "par(mfrow = c(2,2))\n",
    "plot(fit)"
   ]
  },
  {
   "cell_type": "markdown",
   "metadata": {},
   "source": [
    "#### QQ Plot\n",
    "The plot should show a more or less straight line if the distributional assumption is correct. By default, a standard normal distribution is the theoretical “reference distribution”.\n",
    "\n",
    "#### Residuals vs Fitted\n",
    "\n",
    "plots the residuals rij vs. the fitted values μ^i. It allows us to check whether the residuals have constant variance and whether the residuals have mean zero (i.e. they don’t show any deterministic pattern)."
   ]
  },
  {
   "cell_type": "code",
   "execution_count": 19,
   "metadata": {},
   "outputs": [
    {
     "data": {
      "text/html": [
       "<table>\n",
       "<thead><tr><th></th><th scope=col>weight</th><th scope=col>group</th></tr></thead>\n",
       "<tbody>\n",
       "\t<tr><th scope=row>1</th><td>4.17</td><td>ctrl</td></tr>\n",
       "\t<tr><th scope=row>2</th><td>5.58</td><td>ctrl</td></tr>\n",
       "\t<tr><th scope=row>11</th><td>4.81</td><td>trt1</td></tr>\n",
       "\t<tr><th scope=row>12</th><td>4.17</td><td>trt1</td></tr>\n",
       "\t<tr><th scope=row>21</th><td>6.31</td><td>trt2</td></tr>\n",
       "\t<tr><th scope=row>22</th><td>5.12</td><td>trt2</td></tr>\n",
       "</tbody>\n",
       "</table>\n"
      ],
      "text/latex": [
       "\\begin{tabular}{r|ll}\n",
       "  & weight & group\\\\\n",
       "\\hline\n",
       "\t1 & 4.17 & ctrl\\\\\n",
       "\t2 & 5.58 & ctrl\\\\\n",
       "\t11 & 4.81 & trt1\\\\\n",
       "\t12 & 4.17 & trt1\\\\\n",
       "\t21 & 6.31 & trt2\\\\\n",
       "\t22 & 5.12 & trt2\\\\\n",
       "\\end{tabular}\n"
      ],
      "text/markdown": [
       "\n",
       "| <!--/--> | weight | group | \n",
       "|---|---|---|---|---|---|\n",
       "| 1 | 4.17 | ctrl | \n",
       "| 2 | 5.58 | ctrl | \n",
       "| 11 | 4.81 | trt1 | \n",
       "| 12 | 4.17 | trt1 | \n",
       "| 21 | 6.31 | trt2 | \n",
       "| 22 | 5.12 | trt2 | \n",
       "\n",
       "\n"
      ],
      "text/plain": [
       "   weight group\n",
       "1  4.17   ctrl \n",
       "2  5.58   ctrl \n",
       "11 4.81   trt1 \n",
       "12 4.17   trt1 \n",
       "21 6.31   trt2 \n",
       "22 5.12   trt2 "
      ]
     },
     "metadata": {},
     "output_type": "display_data"
    }
   ],
   "source": [
    "PlantGrowth[c(1, 2, 11, 12, 21, 22),]"
   ]
  },
  {
   "cell_type": "markdown",
   "metadata": {},
   "source": [
    "## Post Hoc Testing (Contrast / Multiple Testing)\n",
    "\n",
    "The F-test is unspecific - it basically gives us a yes/no answer for the question _\"is there any treatment effect at all?\"_. It does not tell us what specific treatment (or treatment combination) is significant. \n",
    "\n",
    "A contrast is a set of weights (a vector) that defines a specific comparison over scores or means. They are used, among other things, to test more focused hypotheses than the overall omnibus test of the ANOVA."
   ]
  },
  {
   "cell_type": "code",
   "execution_count": 18,
   "metadata": {
    "scrolled": true
   },
   "outputs": [
    {
     "ename": "ERROR",
     "evalue": "Error in library(multcomp): ‘multcomp’ is not a valid installed package\n",
     "output_type": "error",
     "traceback": [
      "Error in library(multcomp): ‘multcomp’ is not a valid installed package\nTraceback:\n",
      "1. library(multcomp)",
      "2. stop(gettextf(\"%s is not a valid installed package\", sQuote(package)), \n .     domain = NA)"
     ]
    }
   ],
   "source": [
    "library(multcomp)"
   ]
  },
  {
   "cell_type": "code",
   "execution_count": 13,
   "metadata": {
    "scrolled": true
   },
   "outputs": [
    {
     "name": "stderr",
     "output_type": "stream",
     "text": [
      "Installing package into ‘/home/redne/1. R/SMU/C:/Users/Documents/R/win-library/3.5’\n",
      "(as ‘lib’ is unspecified)\n",
      "also installing the dependencies ‘pbkrtest’, ‘quantreg’, ‘maptools’, ‘coin’, ‘car’, ‘coxme’, ‘SimComp’\n",
      "\n",
      "Warning message in install.packages(\"multcomp\", dependencies = TRUE):\n",
      "“installation of package ‘pbkrtest’ had non-zero exit status”Warning message in install.packages(\"multcomp\", dependencies = TRUE):\n",
      "“installation of package ‘quantreg’ had non-zero exit status”Warning message in install.packages(\"multcomp\", dependencies = TRUE):\n",
      "“installation of package ‘maptools’ had non-zero exit status”Warning message in install.packages(\"multcomp\", dependencies = TRUE):\n",
      "“installation of package ‘coxme’ had non-zero exit status”Warning message in install.packages(\"multcomp\", dependencies = TRUE):\n",
      "“installation of package ‘multcomp’ had non-zero exit status”Warning message in install.packages(\"multcomp\", dependencies = TRUE):\n",
      "“installation of package ‘coin’ had non-zero exit status”Warning message in install.packages(\"multcomp\", dependencies = TRUE):\n",
      "“installation of package ‘car’ had non-zero exit status”Warning message in install.packages(\"multcomp\", dependencies = TRUE):\n",
      "“installation of package ‘SimComp’ had non-zero exit status”"
     ]
    }
   ],
   "source": [
    "install.packages(\"multcomp\", dependencies = TRUE)"
   ]
  },
  {
   "cell_type": "code",
   "execution_count": 20,
   "metadata": {},
   "outputs": [
    {
     "name": "stderr",
     "output_type": "stream",
     "text": [
      "Installing package into ‘/home/redne/1. R/SMU/C:/Users/Documents/R/win-library/3.5’\n",
      "(as ‘lib’ is unspecified)\n",
      "Warning message in install.packages(\"maptools\"):\n",
      "“installation of package ‘maptools’ had non-zero exit status”"
     ]
    }
   ],
   "source": [
    "install.packages(\"maptools\")"
   ]
  },
  {
   "cell_type": "code",
   "execution_count": 49,
   "metadata": {},
   "outputs": [
    {
     "ename": "ERROR",
     "evalue": "Error in glht(fit, linfct = mcp(group = c(1, -1/2, -1/2))): could not find function \"glht\"\n",
     "output_type": "error",
     "traceback": [
      "Error in glht(fit, linfct = mcp(group = c(1, -1/2, -1/2))): could not find function \"glht\"\nTraceback:\n"
     ]
    }
   ],
   "source": [
    "install.packages(\"maptools\")"
   ]
  },
  {
   "cell_type": "code",
   "execution_count": null,
   "metadata": {},
   "outputs": [],
   "source": []
  },
  {
   "cell_type": "code",
   "execution_count": null,
   "metadata": {},
   "outputs": [],
   "source": []
  }
 ],
 "metadata": {
  "kernelspec": {
   "display_name": "R",
   "language": "R",
   "name": "ir"
  },
  "language_info": {
   "codemirror_mode": "r",
   "file_extension": ".r",
   "mimetype": "text/x-r-source",
   "name": "R",
   "pygments_lexer": "r",
   "version": "3.5.1"
  }
 },
 "nbformat": 4,
 "nbformat_minor": 2
}
