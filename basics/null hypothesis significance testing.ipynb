{
 "cells": [
  {
   "cell_type": "markdown",
   "metadata": {},
   "source": [
    "# Null hypothesis significance testing\n",
    "\n",
    "![](http://slideplayer.com/slide/3791615/13/images/1/Hypothesis+Testing+Steps+in+Hypothesis+Testing%3A.jpg)\n",
    "\n",
    "http://www.rpubs.com/rfpopp/data_analysis_lab8\n",
    "\n",
    "\n"
   ]
  },
  {
   "cell_type": "markdown",
   "metadata": {},
   "source": [
    "### Example 1\n",
    "> Suppose a coin toss turns up 12 heads out of 20 trials. At .05 significance level, can one reject the null hypothesis that the coin toss is fair?"
   ]
  },
  {
   "cell_type": "code",
   "execution_count": 1,
   "metadata": {},
   "outputs": [
    {
     "data": {
      "text/html": [
       "0.6"
      ],
      "text/latex": [
       "0.6"
      ],
      "text/markdown": [
       "0.6"
      ],
      "text/plain": [
       "[1] 0.6"
      ]
     },
     "metadata": {},
     "output_type": "display_data"
    }
   ],
   "source": [
    "12/20"
   ]
  },
  {
   "cell_type": "markdown",
   "metadata": {},
   "source": [
    "#### Steps:\n",
    "1. State the null and alternative hypotheses:\n",
    "        HO: p = 0.5\n",
    "        H1: p != 0.5\n",
    "2. Choose level of significance: 0.05\n",
    "3. Find critical value"
   ]
  },
  {
   "cell_type": "code",
   "execution_count": 4,
   "metadata": {},
   "outputs": [
    {
     "data": {
      "text/html": [
       "<ol class=list-inline>\n",
       "\t<li>-0.68762146020396</li>\n",
       "\t<li>2.09302405440831</li>\n",
       "</ol>\n"
      ],
      "text/latex": [
       "\\begin{enumerate*}\n",
       "\\item -0.68762146020396\n",
       "\\item 2.09302405440831\n",
       "\\end{enumerate*}\n"
      ],
      "text/markdown": [
       "1. -0.68762146020396\n",
       "2. 2.09302405440831\n",
       "\n",
       "\n"
      ],
      "text/plain": [
       "[1] -0.6876215  2.0930241"
      ]
     },
     "metadata": {},
     "output_type": "display_data"
    }
   ],
   "source": [
    "qt(c(0.25, 0.975), df=19)"
   ]
  },
  {
   "cell_type": "markdown",
   "metadata": {},
   "source": [
    "4. calculate test statitic"
   ]
  },
  {
   "cell_type": "code",
   "execution_count": 13,
   "metadata": {},
   "outputs": [
    {
     "data": {
      "text/html": [
       "0.894427190999916"
      ],
      "text/latex": [
       "0.894427190999916"
      ],
      "text/markdown": [
       "0.894427190999916"
      ],
      "text/plain": [
       "[1] 0.8944272"
      ]
     },
     "metadata": {},
     "output_type": "display_data"
    }
   ],
   "source": [
    "#### Test Statistice ####\n",
    "\n",
    "pbar = 12 / 20       # sample proportion\n",
    "p = .5               # hypothesized value\n",
    "n = 20               # sample size\n",
    "\n",
    "# test statistic\n",
    "z = (pbar - p)/sqrt(p*(1-p)/n)\n",
    "z"
   ]
  },
  {
   "cell_type": "markdown",
   "metadata": {},
   "source": [
    "5. Draw your conclusion \n",
    "\n",
    "Because 0.89 is not a the in the rejection region (defined by the critical values), we fail to reject the null hypothesis"
   ]
  },
  {
   "cell_type": "markdown",
   "metadata": {},
   "source": [
    "##### Approach # 2"
   ]
  },
  {
   "cell_type": "code",
   "execution_count": 14,
   "metadata": {},
   "outputs": [
    {
     "data": {
      "text/plain": [
       "\n",
       "\t1-sample proportions test without continuity correction\n",
       "\n",
       "data:  12 out of 20, null probability 0.5\n",
       "X-squared = 0.8, df = 1, p-value = 0.3711\n",
       "alternative hypothesis: true p is not equal to 0.5\n",
       "95 percent confidence interval:\n",
       " 0.3865815 0.7811935\n",
       "sample estimates:\n",
       "  p \n",
       "0.6 \n"
      ]
     },
     "metadata": {},
     "output_type": "display_data"
    }
   ],
   "source": [
    "prop.test(12, 20, p=0.5, correct=FALSE)"
   ]
  },
  {
   "cell_type": "markdown",
   "metadata": {},
   "source": [
    "Per the `X-squared` value (0.8), the value is not in the rejection region, __therfore we fail to reject H0.__ We can also say that __we cannot reject the null hypothesis at a 0.05 significance level.__ "
   ]
  },
  {
   "cell_type": "markdown",
   "metadata": {},
   "source": [
    "### Example 2\n",
    ">David claims that the weather forecasts produced by the local radio are not better than those achieved by tossing a fair coin and predicting rain is a head is obtained or no rain if a tail is obtained. He records the weather for 30 randomly selected days. The local radio forecast is correct on 21 of these days. \n",
    "\n",
    "Calculate the proportion:"
   ]
  },
  {
   "cell_type": "code",
   "execution_count": 15,
   "metadata": {},
   "outputs": [
    {
     "data": {
      "text/html": [
       "0.7"
      ],
      "text/latex": [
       "0.7"
      ],
      "text/markdown": [
       "0.7"
      ],
      "text/plain": [
       "[1] 0.7"
      ]
     },
     "metadata": {},
     "output_type": "display_data"
    }
   ],
   "source": [
    "21/30"
   ]
  },
  {
   "cell_type": "markdown",
   "metadata": {},
   "source": [
    "p = 0.7"
   ]
  },
  {
   "cell_type": "markdown",
   "metadata": {},
   "source": [
    "#### Steps:\n",
    "1. State the null and alternative hypothesis:\n",
    "\n",
    "       HO: p = 0.5\n",
    "       HA: p >= 0.5\n",
    "2. Chose the level of siginificant 0.05\n",
    "3. Find the critical value by finding the 2.5th and the 97.5th percentile of the Student t distribution with 29 df"
   ]
  },
  {
   "cell_type": "code",
   "execution_count": 22,
   "metadata": {},
   "outputs": [
    {
     "data": {
      "text/html": [
       "<ol class=list-inline>\n",
       "\t<li>-2.0452296421327</li>\n",
       "\t<li>2.0452296421327</li>\n",
       "</ol>\n"
      ],
      "text/latex": [
       "\\begin{enumerate*}\n",
       "\\item -2.0452296421327\n",
       "\\item 2.0452296421327\n",
       "\\end{enumerate*}\n"
      ],
      "text/markdown": [
       "1. -2.0452296421327\n",
       "2. 2.0452296421327\n",
       "\n",
       "\n"
      ],
      "text/plain": [
       "[1] -2.04523  2.04523"
      ]
     },
     "metadata": {},
     "output_type": "display_data"
    }
   ],
   "source": [
    "qt(c(0.05/2, 1-(0.05/2)), df = (30-1))"
   ]
  },
  {
   "cell_type": "markdown",
   "metadata": {},
   "source": [
    "The 2.5th and 97.5th percentiles of the Student t distribution with 29 degrees of freedom are -2.04452 and 2.0452 respectively.\n",
    "\n",
    "4. calcuate test statistic\n",
    "\n",
    "![](https://cdn-images-1.medium.com/max/800/1*K8QeUa6X28OXashLRNidRQ.png)\n"
   ]
  },
  {
   "cell_type": "code",
   "execution_count": 31,
   "metadata": {},
   "outputs": [
    {
     "data": {
      "text/html": [
       "2.19089023002066"
      ],
      "text/latex": [
       "2.19089023002066"
      ],
      "text/markdown": [
       "2.19089023002066"
      ],
      "text/plain": [
       "[1] 2.19089"
      ]
     },
     "metadata": {},
     "output_type": "display_data"
    }
   ],
   "source": [
    "xbar <- 21/30    # sample proportion\n",
    "p <- 0.5        # hypothesized value\n",
    "n <- 30          # sample size\n",
    "\n",
    "z <- (xbar - p)/sqrt((p*p)/n)\n",
    "z"
   ]
  },
  {
   "cell_type": "markdown",
   "metadata": {},
   "source": [
    "5. Draw conclusion\n",
    "z = 2.19 is in the rejectino region , __therfore we can reject the null hypthesis at 0.05 significance level__\n",
    "\n",
    "##### apprach 2"
   ]
  },
  {
   "cell_type": "code",
   "execution_count": 33,
   "metadata": {},
   "outputs": [
    {
     "data": {
      "text/plain": [
       "\n",
       "\t1-sample proportions test without continuity correction\n",
       "\n",
       "data:  21 out of 30, null probability 0.5\n",
       "X-squared = 4.8, df = 1, p-value = 0.01423\n",
       "alternative hypothesis: true p is greater than 0.5\n",
       "95 percent confidence interval:\n",
       " 0.5506175 1.0000000\n",
       "sample estimates:\n",
       "  p \n",
       "0.7 \n"
      ]
     },
     "metadata": {},
     "output_type": "display_data"
    }
   ],
   "source": [
    "prop.test(21, 30, correct = FALSE, alternative = \"greater\")"
   ]
  },
  {
   "cell_type": "markdown",
   "metadata": {},
   "source": [
    "The value of the test statistic, 4.8, is outside the rejection regions set by the critical values. Running a confidence interval hypothesis testing, the value stated by H0 is outside the confidence interval, therefore we can reject H0 and accept H1."
   ]
  }
 ],
 "metadata": {
  "kernelspec": {
   "display_name": "R",
   "language": "R",
   "name": "ir"
  },
  "language_info": {
   "codemirror_mode": "r",
   "file_extension": ".r",
   "mimetype": "text/x-r-source",
   "name": "R",
   "pygments_lexer": "r",
   "version": "3.5.1"
  }
 },
 "nbformat": 4,
 "nbformat_minor": 2
}
