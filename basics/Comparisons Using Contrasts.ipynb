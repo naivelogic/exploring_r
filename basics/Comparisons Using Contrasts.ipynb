{
 "cells": [
  {
   "cell_type": "markdown",
   "metadata": {},
   "source": [
    "# Orthogonal Contrasts and Multiple Comparisions\n",
    "\n",
    "In this notebooks we will focus on applying ANOVA Post-Hoc and Contrast Concepts\n",
    "\n",
    "Source: [unh lab 4](http://www.unh.edu/halelab/BIOL933/Labs/Lab4.pdf)\n",
    "\n",
    "## EX1: Comparisions using Orthogonal contrasts (CRD)\n",
    "\n",
    "This is a CRD in which 18 young Cleome gynandra plants were randomly assigned to 6 different\n",
    "treatments (i.e. all combinations of two temperature [High and Low] and three light [8, 12, and 16\n",
    "hour days] conditions) and their growth measured."
   ]
  },
  {
   "cell_type": "code",
   "execution_count": 6,
   "metadata": {},
   "outputs": [
    {
     "name": "stdout",
     "output_type": "stream",
     "text": [
      "'data.frame':\t18 obs. of  2 variables:\n",
      " $ Trtmt : Factor w/ 6 levels \"H08\",\"H12\",\"H16\",..: 4 4 4 5 5 5 6 6 6 1 ...\n",
      " $ Growth: num  15 17.5 11.5 18 14 17.5 19 21.5 22 32 ...\n"
     ]
    }
   ],
   "source": [
    "dat = read.csv(\"./data/Lab4ex1.csv\")\n",
    "dat$Trtmt = as.factor(dat$Trtmt)\n",
    "str(dat, give.attr=F)"
   ]
  },
  {
   "cell_type": "code",
   "execution_count": 8,
   "metadata": {},
   "outputs": [
    {
     "data": {
      "text/html": [
       "<table>\n",
       "<thead><tr><th></th><th scope=col>Df</th><th scope=col>Sum Sq</th><th scope=col>Mean Sq</th><th scope=col>F value</th><th scope=col>Pr(&gt;F)</th></tr></thead>\n",
       "<tbody>\n",
       "\t<tr><th scope=row>Trtmt</th><td> 5          </td><td>718.5694    </td><td>143.713889  </td><td>16.68935    </td><td>4.881062e-05</td></tr>\n",
       "\t<tr><th scope=row>Residuals</th><td>12          </td><td>103.3333    </td><td>  8.611111  </td><td>      NA    </td><td>          NA</td></tr>\n",
       "</tbody>\n",
       "</table>\n"
      ],
      "text/latex": [
       "\\begin{tabular}{r|lllll}\n",
       "  & Df & Sum Sq & Mean Sq & F value & Pr(>F)\\\\\n",
       "\\hline\n",
       "\tTrtmt &  5           & 718.5694     & 143.713889   & 16.68935     & 4.881062e-05\\\\\n",
       "\tResiduals & 12           & 103.3333     &   8.611111   &       NA     &           NA\\\\\n",
       "\\end{tabular}\n"
      ],
      "text/markdown": [
       "\n",
       "| <!--/--> | Df | Sum Sq | Mean Sq | F value | Pr(>F) | \n",
       "|---|---|\n",
       "| Trtmt |  5           | 718.5694     | 143.713889   | 16.68935     | 4.881062e-05 | \n",
       "| Residuals | 12           | 103.3333     |   8.611111   |       NA     |           NA | \n",
       "\n",
       "\n"
      ],
      "text/plain": [
       "          Df Sum Sq   Mean Sq    F value  Pr(>F)      \n",
       "Trtmt      5 718.5694 143.713889 16.68935 4.881062e-05\n",
       "Residuals 12 103.3333   8.611111       NA           NA"
      ]
     },
     "metadata": {},
     "output_type": "display_data"
    }
   ],
   "source": [
    "model_ = lm(Growth ~ Trtmt, dat)\n",
    "anova_ = anova(model_)\n",
    "anova_"
   ]
  },
  {
   "cell_type": "code",
   "execution_count": 9,
   "metadata": {},
   "outputs": [
    {
     "data": {
      "text/plain": [
       "\n",
       "Call:\n",
       "lm(formula = Growth ~ Trtmt, data = dat)\n",
       "\n",
       "Coefficients:\n",
       "(Intercept)     TrtmtH12     TrtmtH16     TrtmtL08     TrtmtL12     TrtmtL16  \n",
       "     29.333       -3.500        2.333      -14.667      -12.833       -8.500  \n"
      ]
     },
     "metadata": {},
     "output_type": "display_data"
    }
   ],
   "source": [
    "model_"
   ]
  },
  {
   "cell_type": "markdown",
   "metadata": {},
   "source": [
    "using `lm()` for our model we can see the order treatment levels: H08, H12,  H16, L08, L12, L16\n",
    "\n",
    "Our desired contrasts:\n",
    "- Contrast ‘Temp’ 1,1,1,-1,-1,-1\n",
    "- Contrast ‘Light Linear' 1,0,-1,1,0,-1\n",
    "- Contrast ‘Light Quadratic’ 1,-2,1,1,-2,1\n",
    "-  Contrast ‘Temp * Light Linear’ 1,0,-1,-1,0,1\n",
    "- Contrast ‘Temp * Light Quadratic’ 1,-2,1,-1,2,-1"
   ]
  },
  {
   "cell_type": "code",
   "execution_count": 10,
   "metadata": {},
   "outputs": [
    {
     "data": {
      "text/html": [
       "<table>\n",
       "<tbody>\n",
       "\t<tr><td> 1</td><td> 1</td><td> 1</td><td> 1</td><td> 1</td></tr>\n",
       "\t<tr><td> 1</td><td> 0</td><td>-2</td><td> 0</td><td>-2</td></tr>\n",
       "\t<tr><td> 1</td><td>-1</td><td> 1</td><td>-1</td><td> 1</td></tr>\n",
       "\t<tr><td>-1</td><td> 1</td><td> 1</td><td>-1</td><td>-1</td></tr>\n",
       "\t<tr><td>-1</td><td> 0</td><td>-2</td><td> 0</td><td> 2</td></tr>\n",
       "\t<tr><td>-1</td><td>-1</td><td> 1</td><td> 1</td><td>-1</td></tr>\n",
       "</tbody>\n",
       "</table>\n"
      ],
      "text/latex": [
       "\\begin{tabular}{lllll}\n",
       "\t  1 &  1 &  1 &  1 &  1\\\\\n",
       "\t  1 &  0 & -2 &  0 & -2\\\\\n",
       "\t  1 & -1 &  1 & -1 &  1\\\\\n",
       "\t -1 &  1 &  1 & -1 & -1\\\\\n",
       "\t -1 &  0 & -2 &  0 &  2\\\\\n",
       "\t -1 & -1 &  1 &  1 & -1\\\\\n",
       "\\end{tabular}\n"
      ],
      "text/markdown": [
       "\n",
       "|  1 |  1 |  1 |  1 |  1 | \n",
       "|  1 |  0 | -2 |  0 | -2 | \n",
       "|  1 | -1 |  1 | -1 |  1 | \n",
       "| -1 |  1 |  1 | -1 | -1 | \n",
       "| -1 |  0 | -2 |  0 |  2 | \n",
       "| -1 | -1 |  1 |  1 | -1 | \n",
       "\n",
       "\n"
      ],
      "text/plain": [
       "     [,1] [,2] [,3] [,4] [,5]\n",
       "[1,]  1    1    1    1    1  \n",
       "[2,]  1    0   -2    0   -2  \n",
       "[3,]  1   -1    1   -1    1  \n",
       "[4,] -1    1    1   -1   -1  \n",
       "[5,] -1    0   -2    0    2  \n",
       "[6,] -1   -1    1    1   -1  "
      ]
     },
     "metadata": {},
     "output_type": "display_data"
    }
   ],
   "source": [
    "contrast_matrix = cbind( c(1,1,1,-1,-1,-1),\n",
    "                        c(1,0,-1,1,0,-1),\n",
    "                        c(1,-2,1,1,-2,1),\n",
    "                        c(1,0,-1,-1,0,1),\n",
    "                        c(1,-2,1,-1,2,-1) )\n",
    "contrast_matrix"
   ]
  },
  {
   "cell_type": "code",
   "execution_count": 11,
   "metadata": {},
   "outputs": [
    {
     "data": {
      "text/html": [
       "<ol class=list-inline>\n",
       "\t<li>L08</li>\n",
       "\t<li>L08</li>\n",
       "\t<li>L08</li>\n",
       "\t<li>L12</li>\n",
       "\t<li>L12</li>\n",
       "\t<li>L12</li>\n",
       "\t<li>L16</li>\n",
       "\t<li>L16</li>\n",
       "\t<li>L16</li>\n",
       "\t<li>H08</li>\n",
       "\t<li>H08</li>\n",
       "\t<li>H08</li>\n",
       "\t<li>H12</li>\n",
       "\t<li>H12</li>\n",
       "\t<li>H12</li>\n",
       "\t<li>H16</li>\n",
       "\t<li>H16</li>\n",
       "\t<li>H16</li>\n",
       "</ol>\n",
       "\n",
       "<details>\n",
       "\t<summary style=display:list-item;cursor:pointer>\n",
       "\t\t<strong>Levels</strong>:\n",
       "\t</summary>\n",
       "\t<ol class=list-inline>\n",
       "\t\t<li>'H08'</li>\n",
       "\t\t<li>'H12'</li>\n",
       "\t\t<li>'H16'</li>\n",
       "\t\t<li>'L08'</li>\n",
       "\t\t<li>'L12'</li>\n",
       "\t\t<li>'L16'</li>\n",
       "\t</ol>\n",
       "</details>"
      ],
      "text/latex": [
       "\\begin{enumerate*}\n",
       "\\item L08\n",
       "\\item L08\n",
       "\\item L08\n",
       "\\item L12\n",
       "\\item L12\n",
       "\\item L12\n",
       "\\item L16\n",
       "\\item L16\n",
       "\\item L16\n",
       "\\item H08\n",
       "\\item H08\n",
       "\\item H08\n",
       "\\item H12\n",
       "\\item H12\n",
       "\\item H12\n",
       "\\item H16\n",
       "\\item H16\n",
       "\\item H16\n",
       "\\end{enumerate*}\n",
       "\n",
       "\\emph{Levels}: \\begin{enumerate*}\n",
       "\\item 'H08'\n",
       "\\item 'H12'\n",
       "\\item 'H16'\n",
       "\\item 'L08'\n",
       "\\item 'L12'\n",
       "\\item 'L16'\n",
       "\\end{enumerate*}\n"
      ],
      "text/markdown": [
       "1. L08\n",
       "2. L08\n",
       "3. L08\n",
       "4. L12\n",
       "5. L12\n",
       "6. L12\n",
       "7. L16\n",
       "8. L16\n",
       "9. L16\n",
       "10. H08\n",
       "11. H08\n",
       "12. H08\n",
       "13. H12\n",
       "14. H12\n",
       "15. H12\n",
       "16. H16\n",
       "17. H16\n",
       "18. H16\n",
       "\n",
       "\n",
       "\n",
       "**Levels**: 1. 'H08'\n",
       "2. 'H12'\n",
       "3. 'H16'\n",
       "4. 'L08'\n",
       "5. 'L12'\n",
       "6. 'L16'\n",
       "\n",
       "\n"
      ],
      "text/plain": [
       " [1] L08 L08 L08 L12 L12 L12 L16 L16 L16 H08 H08 H08 H12 H12 H12 H16 H16 H16\n",
       "attr(,\"contrasts\")\n",
       "    [,1] [,2] [,3] [,4] [,5]\n",
       "H08    1    1    1    1    1\n",
       "H12    1    0   -2    0   -2\n",
       "H16    1   -1    1   -1    1\n",
       "L08   -1    1    1   -1   -1\n",
       "L12   -1    0   -2    0    2\n",
       "L16   -1   -1    1    1   -1\n",
       "Levels: H08 H12 H16 L08 L12 L16"
      ]
     },
     "metadata": {},
     "output_type": "display_data"
    }
   ],
   "source": [
    "contrasts(dat$Trtmt) = contrast_matrix\n",
    "dat$Trtmt"
   ]
  },
  {
   "cell_type": "code",
   "execution_count": 13,
   "metadata": {},
   "outputs": [
    {
     "data": {
      "text/plain": [
       "Call:\n",
       "   aov(formula = Growth ~ Trtmt, data = dat)\n",
       "\n",
       "Terms:\n",
       "                   Trtmt Residuals\n",
       "Sum of Squares  718.5694  103.3333\n",
       "Deg. of Freedom        5        12\n",
       "\n",
       "Residual standard error: 2.934469\n",
       "Estimated effects are balanced"
      ]
     },
     "metadata": {},
     "output_type": "display_data"
    }
   ],
   "source": [
    "contrast_model = aov(Growth ~ Trtmt, dat)\n",
    "contrast_model"
   ]
  },
  {
   "cell_type": "markdown",
   "metadata": {},
   "source": [
    "Here is a manual way for computing the contrast:"
   ]
  },
  {
   "cell_type": "code",
   "execution_count": 18,
   "metadata": {},
   "outputs": [
    {
     "data": {
      "text/plain": [
       "                    Df Sum Sq Mean Sq F value   Pr(>F)    \n",
       "Trtmt                5  718.6   143.7  16.689 4.88e-05 ***\n",
       "  Trtmt: Temp        1  606.7   606.7  70.453 2.29e-06 ***\n",
       "  Trtmt: Light Lin   1   54.2    54.2   6.293   0.0275 *  \n",
       "  Trtmt: Light Quad  1   35.0    35.0   4.065   0.0667 .  \n",
       "  Trtmt: T*L Lin     1   11.0    11.0   1.280   0.2800    \n",
       "  Trtmt: T*L Quad    1   11.7    11.7   1.356   0.2669    \n",
       "Residuals           12  103.3     8.6                     \n",
       "---\n",
       "Signif. codes:  0 ‘***’ 0.001 ‘**’ 0.01 ‘*’ 0.05 ‘.’ 0.1 ‘ ’ 1"
      ]
     },
     "metadata": {},
     "output_type": "display_data"
    }
   ],
   "source": [
    "summary(contrast_model, split = list(Trtmt = list(\"Temp\" = 1, \"Light Lin\" = 2, \"Light Quad\" = 3, \"T*L Lin\" = 4, \"T*L Quad\" = 5)))"
   ]
  },
  {
   "cell_type": "markdown",
   "metadata": {},
   "source": [
    "We can also compute the contrast using `lm()`"
   ]
  },
  {
   "cell_type": "code",
   "execution_count": 17,
   "metadata": {},
   "outputs": [
    {
     "data": {
      "text/plain": [
       "\n",
       "Call:\n",
       "lm(formula = Growth ~ Trtmt, data = dat)\n",
       "\n",
       "Residuals:\n",
       "    Min      1Q  Median      3Q     Max \n",
       "-4.6667 -1.7083  0.6667  1.4583  3.3333 \n",
       "\n",
       "Coefficients:\n",
       "            Estimate Std. Error t value Pr(>|t|)    \n",
       "(Intercept)  23.1389     0.6917  33.454 3.23e-13 ***\n",
       "Trtmt1        5.8056     0.6917   8.394 2.29e-06 ***\n",
       "Trtmt2       -2.1250     0.8471  -2.509   0.0275 *  \n",
       "Trtmt3        0.9861     0.4891   2.016   0.0667 .  \n",
       "Trtmt4        0.9583     0.8471   1.131   0.2800    \n",
       "Trtmt5        0.5694     0.4891   1.164   0.2669    \n",
       "---\n",
       "Signif. codes:  0 ‘***’ 0.001 ‘**’ 0.01 ‘*’ 0.05 ‘.’ 0.1 ‘ ’ 1\n",
       "\n",
       "Residual standard error: 2.934 on 12 degrees of freedom\n",
       "Multiple R-squared:  0.8743,\tAdjusted R-squared:  0.8219 \n",
       "F-statistic: 16.69 on 5 and 12 DF,  p-value: 4.881e-05\n"
      ]
     },
     "metadata": {},
     "output_type": "display_data"
    }
   ],
   "source": [
    "contr_model = lm(Growth ~ Trtmt, dat)\n",
    "summary(contr_model)"
   ]
  },
  {
   "cell_type": "markdown",
   "metadata": {},
   "source": [
    "#### Stated Null Hypothesis:\n",
    "\n",
    "- Contrast ‘Temp’ H0: Mean plant growth under low temperature conditions is the same as under high temperature conditions.\n",
    "\n",
    "\n",
    "> Reject contrast ‘Temp’ H0 = There is a significant response of growth to temperature.\n",
    "\n",
    "\n",
    "- Contrast ‘Light Linear’ H0: Mean plant growth under 8 hour days is the same as under 16 hour days (OR: The response of growth to light has no linear component).\n",
    "\n",
    "> Reject contrast ‘Light linear’ H0 = The response of growth to light has a significant linear component\n",
    "\n",
    "- Contrast ‘Light Quadratic’ H0: Mean plant growth under 12 hour days is the same as the average mean growth under 8 and 16 hour days combined (OR: The growth response to light is perfectly linear; OR: The response of growth to light has no quadratic component).\n",
    "\n",
    ">Reject contrast ‘Light quadratic’ H0 = The response of growth to light has a significant quadratic component\n",
    "\n",
    "\n",
    "- Contrast ‘Temp * Light Linear’ H0: The linear component of the response of growth to light is the same at both temperatures.\n",
    "\n",
    "> Reject contrast ‘Temp * Light Linear’ H0 = The linear component of the response of growth to light depends on temperature.\n",
    "\n",
    "- Contrast ‘Temp * Light Quadratic’ H0: The quadratic component of the response of growth to light is the same at both temperatures.\n",
    "\n",
    "> Reject contrast ‘Temp * Light Quadratic’ H0 = The quadratic component of the response of growth to light depends on temperature."
   ]
  },
  {
   "cell_type": "code",
   "execution_count": 35,
   "metadata": {},
   "outputs": [
    {
     "data": {
      "text/plain": [
       "            Df Sum Sq Mean Sq F value   Pr(>F)    \n",
       "Trtmt        5  718.6  143.71   16.69 4.88e-05 ***\n",
       "Residuals   12  103.3    8.61                     \n",
       "---\n",
       "Signif. codes:  0 ‘***’ 0.001 ‘**’ 0.01 ‘*’ 0.05 ‘.’ 0.1 ‘ ’ 1"
      ]
     },
     "metadata": {},
     "output_type": "display_data"
    }
   ],
   "source": [
    "summary(aov(Growth ~ Trtmt, dat))"
   ]
  },
  {
   "cell_type": "code",
   "execution_count": 23,
   "metadata": {},
   "outputs": [
    {
     "data": {
      "text/html": [
       "<table>\n",
       "<thead><tr><th></th><th scope=col>Df</th><th scope=col>Sum Sq</th><th scope=col>Mean Sq</th><th scope=col>F value</th><th scope=col>Pr(&gt;F)</th></tr></thead>\n",
       "<tbody>\n",
       "\t<tr><th scope=row>Trtmt</th><td> 5          </td><td>718.5694    </td><td>143.713889  </td><td>16.68935    </td><td>4.881062e-05</td></tr>\n",
       "\t<tr><th scope=row>Residuals</th><td>12          </td><td>103.3333    </td><td>  8.611111  </td><td>      NA    </td><td>          NA</td></tr>\n",
       "</tbody>\n",
       "</table>\n"
      ],
      "text/latex": [
       "\\begin{tabular}{r|lllll}\n",
       "  & Df & Sum Sq & Mean Sq & F value & Pr(>F)\\\\\n",
       "\\hline\n",
       "\tTrtmt &  5           & 718.5694     & 143.713889   & 16.68935     & 4.881062e-05\\\\\n",
       "\tResiduals & 12           & 103.3333     &   8.611111   &       NA     &           NA\\\\\n",
       "\\end{tabular}\n"
      ],
      "text/markdown": [
       "\n",
       "| <!--/--> | Df | Sum Sq | Mean Sq | F value | Pr(>F) | \n",
       "|---|---|\n",
       "| Trtmt |  5           | 718.5694     | 143.713889   | 16.68935     | 4.881062e-05 | \n",
       "| Residuals | 12           | 103.3333     |   8.611111   |       NA     |           NA | \n",
       "\n",
       "\n"
      ],
      "text/plain": [
       "          Df Sum Sq   Mean Sq    F value  Pr(>F)      \n",
       "Trtmt      5 718.5694 143.713889 16.68935 4.881062e-05\n",
       "Residuals 12 103.3333   8.611111       NA           NA"
      ]
     },
     "metadata": {},
     "output_type": "display_data"
    }
   ],
   "source": [
    "anova(contr_model)"
   ]
  },
  {
   "cell_type": "code",
   "execution_count": 37,
   "metadata": {},
   "outputs": [
    {
     "data": {
      "text/plain": [
       "            Df Sum Sq Mean Sq F value   Pr(>F)    \n",
       "Trtmt        5  718.6  143.71   16.69 4.88e-05 ***\n",
       "Residuals   12  103.3    8.61                     \n",
       "---\n",
       "Signif. codes:  0 ‘***’ 0.001 ‘**’ 0.01 ‘*’ 0.05 ‘.’ 0.1 ‘ ’ 1"
      ]
     },
     "metadata": {},
     "output_type": "display_data"
    }
   ],
   "source": [
    "summary.aov(contr_model)"
   ]
  }
 ],
 "metadata": {
  "kernelspec": {
   "display_name": "R",
   "language": "R",
   "name": "ir"
  },
  "language_info": {
   "codemirror_mode": "r",
   "file_extension": ".r",
   "mimetype": "text/x-r-source",
   "name": "R",
   "pygments_lexer": "r",
   "version": "3.5.1"
  }
 },
 "nbformat": 4,
 "nbformat_minor": 2
}
